{
  "nbformat": 4,
  "nbformat_minor": 0,
  "metadata": {
    "colab": {
      "name": "Preprocessors.ipynb",
      "provenance": [],
      "mount_file_id": "1oZt7uIw7ZjewWlHyIx0ZWmxOrjP0ipRa",
      "authorship_tag": "ABX9TyMj4WGt9tj5a2jppWkYfHkw",
      "include_colab_link": true
    },
    "kernelspec": {
      "name": "python3",
      "display_name": "Python 3"
    },
    "language_info": {
      "name": "python"
    }
  },
  "cells": [
    {
      "cell_type": "markdown",
      "metadata": {
        "id": "view-in-github",
        "colab_type": "text"
      },
      "source": [
        "<a href=\"https://colab.research.google.com/github/Mouhsine22/Houses-sales-forecasting/blob/main/Preprocessors.ipynb\" target=\"_parent\"><img src=\"https://colab.research.google.com/assets/colab-badge.svg\" alt=\"Open In Colab\"/></a>"
      ]
    },
    {
      "cell_type": "code",
      "metadata": {
        "colab": {
          "base_uri": "https://localhost:8080/"
        },
        "id": "4ktTnx7EiXNx",
        "outputId": "b4f4380b-144f-4cad-ba31-a62261539bf5"
      },
      "source": [
        "%%writefile preprocessors.py\n",
        "\n",
        "import pandas as pd\n",
        "import numpy as np\n",
        "from sklearn.base import BaseEstimator, TransformerMixin\n",
        "\n",
        "class TemporalVariableTransformer(BaseEstimator, TransformerMixin):\n",
        "  # Temporal elapsed time transformer\n",
        "  def __init__(self, variables, reference_variable):\n",
        "      if not isinstance(variables, list):\n",
        "        raise ValueError('variables should be a list')\n",
        "\n",
        "      self.variables = variables\n",
        "      self.reference_variable = reference_variable\n",
        "\n",
        "  def fit(self, X, y=None):\n",
        "    # we need this step to fit the sklearn pipeline\n",
        "    return self\n",
        "\n",
        "  def transform(self, X):\n",
        "    #so that we do not ower write the original data frame\n",
        "    X= X.copy()\n",
        "\n",
        "    for feature in self.variables:\n",
        "      X[feature] = X[self.reference_variable] - X[feature]\n",
        "\n",
        "    return X\n",
        "\n",
        "# categorical missing value imputer\n",
        "class Mapper(BaseEstimator, TransformerMixin):\n",
        "\n",
        "    def __init__(self, variables, mappings):\n",
        "\n",
        "        if not isinstance(variables, list):\n",
        "            raise ValueError('variables should be a list')\n",
        "\n",
        "        self.variables = variables\n",
        "        self.mappings = mappings\n",
        "\n",
        "    def fit(self, X, y=None):\n",
        "        # we need the fit statement to accomodate the sklearn pipeline\n",
        "        return self\n",
        "\n",
        "    def transform(self, X):\n",
        "        X = X.copy()\n",
        "        for feature in self.variables:\n",
        "            X[feature] = X[feature].map(self.mappings)\n",
        "\n",
        "        return X"
      ],
      "execution_count": null,
      "outputs": [
        {
          "output_type": "stream",
          "name": "stdout",
          "text": [
            "Writing preprocessors.py\n"
          ]
        }
      ]
    }
  ]
}